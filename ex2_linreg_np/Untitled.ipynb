{
 "cells": [
  {
   "cell_type": "code",
   "execution_count": 14,
   "metadata": {},
   "outputs": [
    {
     "name": "stdout",
     "output_type": "stream",
     "text": [
      "username: t\n",
      "TOTAL SCORE:  50\n",
      "TO_DO_1: 10\n",
      "TO_DO_2: 10\n",
      "TO_DO_3: 10\n",
      "TO_DO_4: 10\n",
      "TO_DO_5: 10\n",
      "\n",
      "\n"
     ]
    }
   ],
   "source": [
    "import requests\n",
    "import json\n",
    "\n",
    "\n",
    "url = \"http://34.87.169.149/judge/2/upload_file/\"\n",
    "#url = \"http://127.0.0.1:8000/judge/2/upload_file/\"\n",
    "fin = open('ex2_linreg_np.ipynb', 'rb')\n",
    "files = {'file': fin}\n",
    "try:\n",
    "    data_obj = {'name': input('username: ')}\n",
    "    r = requests.post(url, files=files, data=data_obj)\n",
    "    #print(r.text)\n",
    "    res = json.loads(r.text)\n",
    "    print('TOTAL SCORE: ', res['score'])\n",
    "    print(res['message'])\n",
    "finally:\n",
    "    fin.close()\n"
   ]
  },
  {
   "cell_type": "code",
   "execution_count": null,
   "metadata": {},
   "outputs": [],
   "source": []
  }
 ],
 "metadata": {
  "kernelspec": {
   "display_name": "Python 3",
   "language": "python",
   "name": "python3"
  },
  "language_info": {
   "codemirror_mode": {
    "name": "ipython",
    "version": 3
   },
   "file_extension": ".py",
   "mimetype": "text/x-python",
   "name": "python",
   "nbconvert_exporter": "python",
   "pygments_lexer": "ipython3",
   "version": "3.7.6"
  }
 },
 "nbformat": 4,
 "nbformat_minor": 4
}
