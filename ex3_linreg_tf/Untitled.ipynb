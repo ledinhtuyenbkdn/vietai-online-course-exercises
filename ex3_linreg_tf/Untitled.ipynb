{
 "cells": [
  {
   "cell_type": "code",
   "execution_count": 13,
   "metadata": {},
   "outputs": [
    {
     "name": "stdout",
     "output_type": "stream",
     "text": [
      "username: o\n",
      "TOTAL SCORE:  13\n",
      "TO_DO_6: 10\n",
      "TO_DO_7: 3\n",
      "\n",
      "\n"
     ]
    }
   ],
   "source": [
    "import requests\n",
    "import json\n",
    "\n",
    "\n",
    "url = \"http://34.87.169.149/judge/3/upload_file/\"\n",
    "#url = \"http://127.0.0.1:8000/judge/3/upload_file/\"\n",
    "fin = open('ex3_linreg_tf.ipynb', 'rb')\n",
    "files = {'file': fin}\n",
    "try:\n",
    "    data_obj = {'name': input('username: ')}\n",
    "    r = requests.post(url, files=files, data=data_obj)\n",
    "    #print(r.text)\n",
    "    res = json.loads(r.text)\n",
    "    print('TOTAL SCORE: ', res['score'])\n",
    "    print(res['message'])\n",
    "finally:\n",
    "    fin.close()\n"
   ]
  },
  {
   "cell_type": "code",
   "execution_count": null,
   "metadata": {},
   "outputs": [],
   "source": []
  },
  {
   "cell_type": "code",
   "execution_count": null,
   "metadata": {},
   "outputs": [],
   "source": []
  }
 ],
 "metadata": {
  "kernelspec": {
   "display_name": "Python 3",
   "language": "python",
   "name": "python3"
  },
  "language_info": {
   "codemirror_mode": {
    "name": "ipython",
    "version": 3
   },
   "file_extension": ".py",
   "mimetype": "text/x-python",
   "name": "python",
   "nbconvert_exporter": "python",
   "pygments_lexer": "ipython3",
   "version": "3.7.6"
  }
 },
 "nbformat": 4,
 "nbformat_minor": 4
}
