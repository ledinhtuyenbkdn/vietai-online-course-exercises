{
 "cells": [
  {
   "cell_type": "code",
   "execution_count": 2,
   "metadata": {},
   "outputs": [
    {
     "name": "stdout",
     "output_type": "stream",
     "text": [
      "username: d\n",
      "TOTAL SCORE:  90\n",
      "TODO 1: 10\n",
      "TODO 2: 10\n",
      "TODO 3: 5\n",
      "TODO 4: 5\n",
      "TODO 5: 10\n",
      "TODO 6: 10\n",
      "TODO 7: 10\n",
      "TODO 8: 10\n",
      "TODO 9: 10\n",
      "TODO 10: 10\n",
      "TODO 11: unsupported operand type(s) for -: 'float' and 'NoneType'\n",
      "TODO 11: 0\n",
      "\n",
      "\n"
     ]
    }
   ],
   "source": [
    "import requests\n",
    "import json\n",
    "\n",
    "\n",
    "url = \"http://34.87.169.149/judge/4/upload_file/\"\n",
    "#url = \"http://127.0.0.1:8000/judge/3/upload_file/\"\n",
    "fin = open('Logistic_Regression.ipynb', 'rb')\n",
    "files = {'file': fin}\n",
    "try:\n",
    "    data_obj = {'name': input('username: ')}\n",
    "    r = requests.post(url, files=files, data=data_obj)\n",
    "    #print(r.text)\n",
    "    res = json.loads(r.text)\n",
    "    print('TOTAL SCORE: ', res['score'])\n",
    "    print(res['message'])\n",
    "finally:\n",
    "    fin.close()\n"
   ]
  },
  {
   "cell_type": "code",
   "execution_count": null,
   "metadata": {},
   "outputs": [],
   "source": []
  }
 ],
 "metadata": {
  "kernelspec": {
   "display_name": "Python 3",
   "language": "python",
   "name": "python3"
  },
  "language_info": {
   "codemirror_mode": {
    "name": "ipython",
    "version": 3
   },
   "file_extension": ".py",
   "mimetype": "text/x-python",
   "name": "python",
   "nbconvert_exporter": "python",
   "pygments_lexer": "ipython3",
   "version": "3.7.6"
  }
 },
 "nbformat": 4,
 "nbformat_minor": 4
}
