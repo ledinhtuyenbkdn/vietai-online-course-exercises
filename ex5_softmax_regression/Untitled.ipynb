{
 "cells": [
  {
   "cell_type": "code",
   "execution_count": 4,
   "metadata": {
    "scrolled": true
   },
   "outputs": [
    {
     "name": "stdout",
     "output_type": "stream",
     "text": [
      "username: l\n",
      "\n",
      "YOUR SCORES:\n",
      "\tCommand 'python3 /var/www/judge/Softmax_Regression_judge_HbH2IF7.py /var/www/submissions/kernel-88621add-1483-4af2-8321-3c82863a353a_JRZYOPw.json' returned non-zero exit status 1.\n",
      "Total score:  0\n"
     ]
    }
   ],
   "source": [
    "import argparse\n",
    "import requests\n",
    "import json\n",
    "\n",
    "parser = argparse.ArgumentParser()\n",
    "parser.add_argument(\"-filepath\", help=\"Path to submission file. Default: Softmax_Regression.ipynb\",\n",
    "                    default=\"Softmax_Regression.ipynb\")\n",
    "args = parser.parse_args()\n",
    "\n",
    "URL = \"http://34.87.169.149/judge/5/upload_file/\"\n",
    "\n",
    "if __name__ == \"__main__\":\n",
    "    fin = open(args.filepath, 'rb')\n",
    "    files = {'file': fin}\n",
    "    try:\n",
    "        data_obj = {'name': input('username: ')}\n",
    "        r = requests.post(URL, files=files, data=data_obj)\n",
    "        text = json.loads(r.text)\n",
    "        print(\"\\nYOUR SCORES:\")\n",
    "        print(\"\\t\"+\"\\n\\t\".join(text[\"message\"].split(\"\\n\")))\n",
    "        print(\"Total score: \", text[\"score\"])\n",
    "    finally:\n",
    "        fin.close()"
   ]
  },
  {
   "cell_type": "code",
   "execution_count": null,
   "metadata": {},
   "outputs": [],
   "source": []
  },
  {
   "cell_type": "code",
   "execution_count": null,
   "metadata": {},
   "outputs": [],
   "source": []
  }
 ],
 "metadata": {
  "kernelspec": {
   "display_name": "Python 3",
   "language": "python",
   "name": "python3"
  },
  "language_info": {
   "codemirror_mode": {
    "name": "ipython",
    "version": 3
   },
   "file_extension": ".py",
   "mimetype": "text/x-python",
   "name": "python",
   "nbconvert_exporter": "python",
   "pygments_lexer": "ipython3",
   "version": "3.7.6"
  }
 },
 "nbformat": 4,
 "nbformat_minor": 4
}
